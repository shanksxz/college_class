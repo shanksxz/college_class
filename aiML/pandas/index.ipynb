{
 "cells": [
  {
   "cell_type": "code",
   "execution_count": 4,
   "metadata": {},
   "outputs": [
    {
     "name": "stdout",
     "output_type": "stream",
     "text": [
      "      Name   Age          City\n",
      "0     John    25      New York\n",
      "1    Emily    30   Los Angeles\n",
      "2  Michael    35       Chicago\n",
      "\n",
      "\n",
      "     Name   Age      City\n",
      "6  Sophia    37   Toronto\n",
      "7    Liam    42    Dublin\n",
      "8  Olivia    50     Paris\n"
     ]
    }
   ],
   "source": [
    "import pandas as pd\n",
    "\n",
    "\n",
    "# data = [\n",
    "#     {'area': 100, 'rooms': 2, 'price': 100000},\n",
    "#     {'area': 200, 'rooms': 3, 'price': 200000},\n",
    "#     {'area': 300, 'rooms': 4, 'price': 300000}\n",
    "# ]\n",
    "\n",
    "\n",
    "# df = pd.DataFrame.from_dict(data)\n",
    "\n",
    "df = pd.read_csv('data.csv')\n",
    "# print(df) \n",
    "# print(df[\"Subscription Date\"])  # 2021-01-01])\n",
    "# print(df[df[\"Subscription Date\"].dt.year == 2024] )\n",
    "\n",
    "# get first 3 rows\n",
    "print(df.head(3))\n",
    "\n",
    "print('\\n')\n",
    "\n",
    "# get last 3 rows\n",
    "print(df.tail(3))\n"
   ]
  }
 ],
 "metadata": {
  "kernelspec": {
   "display_name": "Python 3",
   "language": "python",
   "name": "python3"
  },
  "language_info": {
   "codemirror_mode": {
    "name": "ipython",
    "version": 3
   },
   "file_extension": ".py",
   "mimetype": "text/x-python",
   "name": "python",
   "nbconvert_exporter": "python",
   "pygments_lexer": "ipython3",
   "version": "3.12.1"
  }
 },
 "nbformat": 4,
 "nbformat_minor": 2
}
